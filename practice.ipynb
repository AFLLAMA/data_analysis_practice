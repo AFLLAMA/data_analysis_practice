{
  "nbformat": 4,
  "nbformat_minor": 0,
  "metadata": {
    "colab": {
      "name": "practice.ipynb",
      "provenance": [],
      "collapsed_sections": [],
      "authorship_tag": "ABX9TyNJ9FUYMCYwvM6knKAEksU7",
      "include_colab_link": true
    },
    "kernelspec": {
      "name": "python3",
      "display_name": "Python 3"
    }
  },
  "cells": [
    {
      "cell_type": "markdown",
      "metadata": {
        "id": "view-in-github",
        "colab_type": "text"
      },
      "source": [
        "<a href=\"https://colab.research.google.com/github/AFLLAMA/python_practice/blob/main/practice.ipynb\" target=\"_parent\"><img src=\"https://colab.research.google.com/assets/colab-badge.svg\" alt=\"Open In Colab\"/></a>"
      ]
    },
    {
      "cell_type": "code",
      "metadata": {
        "id": "2yeuglrWxQ4C"
      },
      "source": [
        "def div_11(num):\r\n",
        "    even = True\r\n",
        "    evensum = 0\r\n",
        "    oddsum = 0\r\n",
        "    for i in num:\r\n",
        "        if not i.isnumeric():\r\n",
        "            raise ValueError('Wrong value')\r\n",
        "        evensum += int(i)*even\r\n",
        "        oddsum += int(i)*(not even)\r\n",
        "        even = not even\r\n",
        "    print('oddsum: {}, evensum: {}'.format(oddsum,evensum))\r\n",
        "    print('yes' if (evensum-oddsum)%11==0 else 'no')\r\n"
      ],
      "execution_count": null,
      "outputs": []
    },
    {
      "cell_type": "code",
      "metadata": {
        "colab": {
          "base_uri": "https://localhost:8080/"
        },
        "id": "DsR86OjVxc8X",
        "outputId": "08d1630b-43fb-458b-a432-71325d3ec37e"
      },
      "source": [
        "num = input()\r\n",
        "div_11(num)"
      ],
      "execution_count": null,
      "outputs": [
        {
          "output_type": "stream",
          "text": [
            "1111111111\n",
            "oddsum: 5, evensum: 5\n",
            "yes\n"
          ],
          "name": "stdout"
        }
      ]
    },
    {
      "cell_type": "code",
      "metadata": {
        "id": "nCRexcc70Eid"
      },
      "source": [
        "# cubic root \r\n",
        "def cubic_root(num, lower, upper, error = 0.000001):\r\n",
        "    mid = (lower+upper)/2\r\n",
        "    # print((mid*mid*mid - num))\r\n",
        "    if float(mid*mid*mid - num) < (-1)*error:\r\n",
        "        return cubic_root(num, lower = mid, upper = upper)\r\n",
        "    elif float(mid*mid*mid - num) > error:\r\n",
        "        return cubic_root(num, lower = lower, upper = mid)\r\n",
        "    else:\r\n",
        "        return mid\r\n",
        "    \r\n",
        "def help_cubic_root(num):\r\n",
        "    return cubic_root(num, lower = 0, upper = num)"
      ],
      "execution_count": null,
      "outputs": []
    },
    {
      "cell_type": "code",
      "metadata": {
        "colab": {
          "base_uri": "https://localhost:8080/"
        },
        "id": "_ACWLSNOa_f9",
        "outputId": "fdf09024-9ab8-4b84-e463-91b39e9ab027"
      },
      "source": [
        "print('Answer: {}'.format(help_cubic_root(111111111)))"
      ],
      "execution_count": null,
      "outputs": [
        {
          "output_type": "stream",
          "text": [
            "Answer 480.7498566088855\n"
          ],
          "name": "stdout"
        }
      ]
    },
    {
      "cell_type": "code",
      "metadata": {
        "id": "LucIdQWBcC2k"
      },
      "source": [
        "class Node:\r\n",
        "\r\n",
        "    def __init__(self, value):\r\n",
        "        self.value = value\r\n",
        "        self.left = None\r\n",
        "        self.right = None\r\n",
        "\r\n",
        "    def __str__(self):\r\n",
        "        line = []\r\n",
        "        n = self\r\n",
        "        line.append(n)\r\n",
        "        res = ''\r\n",
        "        while(not (line == [])):\r\n",
        "            newline = []\r\n",
        "            for l in line:\r\n",
        "                res = res + str(l.value) + ' '\r\n",
        "                if not (l.left == None):\r\n",
        "                    newline.append(l.left)\r\n",
        "                if not (l.right == None):\r\n",
        "                    newline.append(l.right)\r\n",
        "            res = res + '\\n'\r\n",
        "            line = newline\r\n",
        "        return res\r\n",
        "\r\n",
        "    def set_left(self, left):\r\n",
        "        self.left = left\r\n",
        "        return self\r\n",
        "    \r\n",
        "    def set_right(self, right):\r\n",
        "        self.right = right\r\n",
        "        return self\r\n",
        "\r\n",
        "    def reverse(self):\r\n",
        "        if self.left == None:\r\n",
        "            temp = None\r\n",
        "        else:\r\n",
        "            temp = self.left.reverse()\r\n",
        "        if self.right == None:\r\n",
        "            self.set_left(None)\r\n",
        "        else:\r\n",
        "            self.set_left(self.right.reverse())\r\n",
        "        self.set_right(temp)\r\n",
        "        return self"
      ],
      "execution_count": null,
      "outputs": []
    },
    {
      "cell_type": "code",
      "metadata": {
        "colab": {
          "base_uri": "https://localhost:8080/"
        },
        "id": "2L_K-G-Htxxk",
        "outputId": "da57038c-08e1-4c29-c5b8-fe9ab198a5f2"
      },
      "source": [
        "n = Node(12)\r\n",
        "n2 = Node(34)\r\n",
        "n3 = Node(45)\r\n",
        "n4 = Node(1)\r\n",
        "n.set_left(n2)\r\n",
        "n.set_right(n3)\r\n",
        "n2.set_left(n4)\r\n",
        "\r\n",
        "print(n)\r\n",
        "print(n.reverse())"
      ],
      "execution_count": null,
      "outputs": [
        {
          "output_type": "stream",
          "text": [
            "12 \n",
            "34 45 \n",
            "1 \n",
            "\n",
            "12 \n",
            "45 34 \n",
            "1 \n",
            "\n"
          ],
          "name": "stdout"
        }
      ]
    },
    {
      "cell_type": "code",
      "metadata": {
        "id": "kXNGm6gCunaK"
      },
      "source": [
        "#The Coin Change Problem\r\n",
        "#Recursion\r\n",
        "import numpy as np \r\n",
        "\r\n",
        "def count(cap, first, last,sorted_c):\r\n",
        "    score = 0\r\n",
        "    if first > last:\r\n",
        "        if cap == 0:\r\n",
        "            return 1\r\n",
        "        else:\r\n",
        "            return 0\r\n",
        "    while cap >= sorted_c[first]:\r\n",
        "        score = score + count(cap, first+1, last,sorted_c)\r\n",
        "        \r\n",
        "        cap = cap - sorted_c[first]\r\n",
        "\r\n",
        "    score = score + count(cap, first+1, last,sorted_c)\r\n",
        "    return score\r\n",
        "\r\n",
        "def help_count(n, c):\r\n",
        "   \r\n",
        "    last = len(c)-1\r\n",
        "    sorted_c = sorted(c, reverse=True)\r\n",
        "    print(count(n,0,last,sorted_c))\r\n"
      ],
      "execution_count": 79,
      "outputs": []
    },
    {
      "cell_type": "code",
      "metadata": {
        "colab": {
          "base_uri": "https://localhost:8080/"
        },
        "id": "nHZW5FooHboL",
        "outputId": "50c44508-18a8-4595-b31e-b3426886aa06"
      },
      "source": [
        "n = 10\r\n",
        "c = [1,2,7,8,9,10,4,5,3,6]\r\n",
        "# c = [3,7,5,2]\r\n",
        "help_count(n,c)"
      ],
      "execution_count": 85,
      "outputs": [
        {
          "output_type": "stream",
          "text": [
            "42\n"
          ],
          "name": "stdout"
        }
      ]
    },
    {
      "cell_type": "code",
      "metadata": {
        "colab": {
          "base_uri": "https://localhost:8080/"
        },
        "id": "DrYVm_K5Soib",
        "outputId": "8df89cec-6d0d-42ff-ebcd-a285a6ea7eb0"
      },
      "source": [
        "#using loops\r\n",
        "n, m = map(int,input().split())\r\n",
        "coins = list(map(int,input().split()))\r\n",
        "dp = [1]+[0]*n\r\n",
        "for i in range(m): \r\n",
        "    for j in range(coins[i], n+1): \r\n",
        "        dp[j]+=dp[j-coins[i]]\r\n",
        "print(dp[-1])"
      ],
      "execution_count": 86,
      "outputs": [
        {
          "output_type": "stream",
          "text": [
            "10 10\n",
            "1 2 3 4 5 6 7 8 9 10\n",
            "42\n"
          ],
          "name": "stdout"
        }
      ]
    },
    {
      "cell_type": "code",
      "metadata": {
        "id": "e1-pXDR30jDz"
      },
      "source": [
        ""
      ],
      "execution_count": null,
      "outputs": []
    }
  ]
}