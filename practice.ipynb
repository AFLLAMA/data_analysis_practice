{
  "nbformat": 4,
  "nbformat_minor": 0,
  "metadata": {
    "colab": {
      "name": "practice.ipynb",
      "provenance": [],
      "collapsed_sections": [],
      "authorship_tag": "ABX9TyPma2SfRH/C2MZwq6DgKRhg",
      "include_colab_link": true
    },
    "kernelspec": {
      "name": "python3",
      "display_name": "Python 3"
    }
  },
  "cells": [
    {
      "cell_type": "markdown",
      "metadata": {
        "id": "view-in-github",
        "colab_type": "text"
      },
      "source": [
        "<a href=\"https://colab.research.google.com/github/AFLLAMA/python_practice/blob/main/practice.ipynb\" target=\"_parent\"><img src=\"https://colab.research.google.com/assets/colab-badge.svg\" alt=\"Open In Colab\"/></a>"
      ]
    },
    {
      "cell_type": "code",
      "metadata": {
        "id": "2yeuglrWxQ4C"
      },
      "source": [
        "def div_11(num):\r\n",
        "    even = True\r\n",
        "    evensum = 0\r\n",
        "    oddsum = 0\r\n",
        "    for i in num:\r\n",
        "        if not i.isnumeric():\r\n",
        "            raise ValueError('Wrong value')\r\n",
        "        evensum += int(i)*even\r\n",
        "        oddsum += int(i)*(not even)\r\n",
        "        even = not even\r\n",
        "    print('oddsum: {}, evensum: {}'.format(oddsum,evensum))\r\n",
        "    print('yes' if (evensum-oddsum)%11==0 else 'no')\r\n"
      ],
      "execution_count": 3,
      "outputs": []
    },
    {
      "cell_type": "code",
      "metadata": {
        "colab": {
          "base_uri": "https://localhost:8080/"
        },
        "id": "DsR86OjVxc8X",
        "outputId": "08d1630b-43fb-458b-a432-71325d3ec37e"
      },
      "source": [
        "num = input()\r\n",
        "div_11(num)"
      ],
      "execution_count": 5,
      "outputs": [
        {
          "output_type": "stream",
          "text": [
            "1111111111\n",
            "oddsum: 5, evensum: 5\n",
            "yes\n"
          ],
          "name": "stdout"
        }
      ]
    },
    {
      "cell_type": "code",
      "metadata": {
        "id": "nCRexcc70Eid"
      },
      "source": [
        "# cubic root \r\n",
        "def cubic_root(num, lower, upper, error = 0.000001):\r\n",
        "    mid = (lower+upper)/2\r\n",
        "    # print((mid*mid*mid - num))\r\n",
        "    if float(mid*mid*mid - num) < (-1)*error:\r\n",
        "        return cubic_root(num, lower = mid, upper = upper)\r\n",
        "    elif float(mid*mid*mid - num) > error:\r\n",
        "        return cubic_root(num, lower = lower, upper = mid)\r\n",
        "    else:\r\n",
        "        return mid\r\n",
        "    \r\n",
        "def help_cubic_root(num):\r\n",
        "    return cubic_root(num, lower = 0, upper = num)"
      ],
      "execution_count": 30,
      "outputs": []
    },
    {
      "cell_type": "code",
      "metadata": {
        "colab": {
          "base_uri": "https://localhost:8080/"
        },
        "id": "_ACWLSNOa_f9",
        "outputId": "fdf09024-9ab8-4b84-e463-91b39e9ab027"
      },
      "source": [
        "print('Answer: {}'.format(help_cubic_root(111111111)))"
      ],
      "execution_count": 31,
      "outputs": [
        {
          "output_type": "stream",
          "text": [
            "Answer 480.7498566088855\n"
          ],
          "name": "stdout"
        }
      ]
    },
    {
      "cell_type": "code",
      "metadata": {
        "id": "LucIdQWBcC2k"
      },
      "source": [
        "class Node:\r\n",
        "\r\n",
        "    def __init__(self, value):\r\n",
        "        self.value = value\r\n",
        "        self.left = None\r\n",
        "        self.right = None\r\n",
        "\r\n",
        "    def __str__(self):\r\n",
        "        line = []\r\n",
        "        n = self\r\n",
        "        line.append(n)\r\n",
        "        res = ''\r\n",
        "        while(not (line == [])):\r\n",
        "            newline = []\r\n",
        "            for l in line:\r\n",
        "                res = res + str(l.value) + ' '\r\n",
        "                if not (l.left == None):\r\n",
        "                    newline.append(l.left)\r\n",
        "                if not (l.right == None):\r\n",
        "                    newline.append(l.right)\r\n",
        "            res = res + '\\n'\r\n",
        "            line = newline\r\n",
        "        return res\r\n",
        "\r\n",
        "    def set_left(self, left):\r\n",
        "        self.left = left\r\n",
        "        return self\r\n",
        "    \r\n",
        "    def set_right(self, right):\r\n",
        "        self.right = right\r\n",
        "        return self\r\n",
        "\r\n",
        "    def reverse(self):\r\n",
        "        if self.left == None:\r\n",
        "            temp = None\r\n",
        "        else:\r\n",
        "            temp = self.left.reverse()\r\n",
        "        if self.right == None:\r\n",
        "            self.set_left(None)\r\n",
        "        else:\r\n",
        "            self.set_left(self.right.reverse())\r\n",
        "        self.set_right(temp)\r\n",
        "        return self"
      ],
      "execution_count": 1,
      "outputs": []
    },
    {
      "cell_type": "code",
      "metadata": {
        "colab": {
          "base_uri": "https://localhost:8080/"
        },
        "id": "2L_K-G-Htxxk",
        "outputId": "da57038c-08e1-4c29-c5b8-fe9ab198a5f2"
      },
      "source": [
        "n = Node(12)\r\n",
        "n2 = Node(34)\r\n",
        "n3 = Node(45)\r\n",
        "n4 = Node(1)\r\n",
        "n.set_left(n2)\r\n",
        "n.set_right(n3)\r\n",
        "n2.set_left(n4)\r\n",
        "\r\n",
        "print(n)\r\n",
        "print(n.reverse())"
      ],
      "execution_count": 2,
      "outputs": [
        {
          "output_type": "stream",
          "text": [
            "12 \n",
            "34 45 \n",
            "1 \n",
            "\n",
            "12 \n",
            "45 34 \n",
            "1 \n",
            "\n"
          ],
          "name": "stdout"
        }
      ]
    }
  ]
}